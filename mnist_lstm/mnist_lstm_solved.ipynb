{
 "cells": [
  {
   "cell_type": "markdown",
   "metadata": {},
   "source": [
    "# LSTM Tutorial\n",
    "\n",
    "In this notebook we will train a simple LSTM network in TensorFlow to classify digits from famous MNIST dataset (http://yann.lecun.com/exdb/mnist/).\n",
    "The code is based on the work of Aymeric Damien (https://github.com/aymericdamien/TensorFlow-Examples).\n",
    "\n",
    "There will be blanks left all over the code for the reader to fill out. If you ever get stuck, there's also a complete version in the repository.\n",
    "\n",
    "Ready? **Let's go!**"
   ]
  },
  {
   "cell_type": "markdown",
   "metadata": {},
   "source": [
    "Let's start by importing the needed packages."
   ]
  },
  {
   "cell_type": "code",
   "execution_count": 1,
   "metadata": {
    "collapsed": true
   },
   "outputs": [],
   "source": [
    "from __future__ import print_function\n",
    "\n",
    "import tensorflow as tf\n",
    "import numpy as np\n",
    "import random\n",
    "\n",
    "%matplotlib inline\n",
    "import matplotlib.pyplot as plt\n",
    "import matplotlib.image as mpimg\n",
    "\n",
    "random.seed(1)\n",
    "np.random.seed(1)\n",
    "tf.set_random_seed(1)"
   ]
  },
  {
   "cell_type": "markdown",
   "metadata": {},
   "source": [
    "## Download MNIST dataset\n",
    "\n",
    "Fortunately, TensorFlow can download MNIST dataset for us automatically. It is also already divided into training, validation and test sets. We can also specify right away to transform the labels to one-hot form, which is needed for a softmax classifier. \n",
    "\n",
    "If you're not familiar with one-hot representation, read this great Quora answer (https://www.quora.com/What-is-one-hot-encoding-and-when-is-it-used-in-data-science). \n",
    "\n",
    "\n",
    "The process may take a while."
   ]
  },
  {
   "cell_type": "code",
   "execution_count": 2,
   "metadata": {},
   "outputs": [
    {
     "name": "stdout",
     "output_type": "stream",
     "text": [
      "Extracting /tmp/data/train-images-idx3-ubyte.gz\n",
      "Extracting /tmp/data/train-labels-idx1-ubyte.gz\n",
      "Extracting /tmp/data/t10k-images-idx3-ubyte.gz\n",
      "Extracting /tmp/data/t10k-labels-idx1-ubyte.gz\n"
     ]
    }
   ],
   "source": [
    "# Import MNIST data\n",
    "from tensorflow.examples.tutorials.mnist import input_data\n",
    "mnist = input_data.read_data_sets(\"/tmp/data/\", one_hot=True)"
   ]
  },
  {
   "cell_type": "markdown",
   "metadata": {},
   "source": [
    "## Check training and test set\n",
    "\n",
    "It is always a good idea to check the data we work with.\n",
    "\n",
    "#### Number of train/test examples\n",
    "\n",
    "Let's start with checking the number of examples we have available, both in training and test sets (we will not be using validation set in this tutorial). To do this, explore the ```mnist``` object.\n",
    "\n",
    "(If you're not familiar with jupyter notebooks, you can do this by typing ```mnist.``` and pressing **Tab** to see the member fields and methods. Good luck!)"
   ]
  },
  {
   "cell_type": "code",
   "execution_count": 3,
   "metadata": {},
   "outputs": [
    {
     "name": "stdout",
     "output_type": "stream",
     "text": [
      "Number of train examples: 55000\n",
      "Number of train examples: 10000\n"
     ]
    }
   ],
   "source": [
    "### [TASK] Get number of train/text examples\n",
    "train_num_examples = mnist.train.num_examples\n",
    "test_num_examples = mnist.test.num_examples\n",
    "###\n",
    "print('Number of train examples: {0}'.format(train_num_examples))\n",
    "print('Number of train examples: {0}'.format(test_num_examples))"
   ]
  },
  {
   "cell_type": "markdown",
   "metadata": {},
   "source": [
    "If you did this correctly, you should get the values as below:\n",
    "\n",
    "Name | Value\n",
    "--- | --- |\n",
    "| Number of train examples     | 55000 |\n",
    "| Number of test examples      | 10000 |"
   ]
  },
  {
   "cell_type": "markdown",
   "metadata": {},
   "source": [
    "#### Image shape\n",
    "\n",
    "So we know how many samples we have, but what about a single image?\n",
    "\n",
    "Let's start by getting a single example and checking its shape. It doesn't matter if it comes from train or test set."
   ]
  },
  {
   "cell_type": "code",
   "execution_count": 4,
   "metadata": {},
   "outputs": [
    {
     "name": "stdout",
     "output_type": "stream",
     "text": [
      "Single example shape: (784,)\n"
     ]
    }
   ],
   "source": [
    "### [TASK] Get a random example from MNIST dataset\n",
    "mnist_example = mnist.train.images[10]\n",
    "###\n",
    "\n",
    "print('Single example shape: {0}'.format(mnist_example.shape))"
   ]
  },
  {
   "cell_type": "markdown",
   "metadata": {},
   "source": [
    "Name | Value\n",
    "--- | --- |\n",
    "| Single example shape     | (784,) |"
   ]
  },
  {
   "cell_type": "markdown",
   "metadata": {},
   "source": [
    "#### Vector to matrix\n",
    "\n",
    "As you can see, the image is in a vector form. It's a common practice to reshape images to this form, since it's easier to process them like this on a computer.\n",
    "\n",
    "That being said, we'd like to see what it looks like and for this we need to get the image to its original form. We have to use the knowledge of the MNIST dataset to achieve this: each digit is a square, black-and-white image (1 channel, not 3 as with normal images).\n",
    "\n",
    "With that knowledge in mind, lets use the reshape function to change ```mnist_example``` to a square matrix form."
   ]
  },
  {
   "cell_type": "code",
   "execution_count": 5,
   "metadata": {},
   "outputs": [
    {
     "name": "stdout",
     "output_type": "stream",
     "text": [
      "MNIST digit shape: (28, 28)\n"
     ]
    }
   ],
   "source": [
    "### [TASK] Reshape mnist_example to square matrix.\n",
    "mnist_example = np.reshape(mnist_example, (28, 28))\n",
    "###\n",
    "\n",
    "print('MNIST digit shape: {0}'.format(mnist_example.shape))"
   ]
  },
  {
   "cell_type": "markdown",
   "metadata": {},
   "source": [
    "Name | Value\n",
    "--- | --- |\n",
    "| MNIST digit shape     | (28, 28) |"
   ]
  },
  {
   "cell_type": "markdown",
   "metadata": {},
   "source": [
    "#### Show a random MNIST training image\n",
    "\n",
    "Now that we know how to restore digits to the original form, let's write a simple function to sample a random example from training set and show it using matplotlib. Your job is to retrive a correct label for the randomly chosen image (watch out for a one-hot vector!)."
   ]
  },
  {
   "cell_type": "code",
   "execution_count": 6,
   "metadata": {},
   "outputs": [
    {
     "name": "stdout",
     "output_type": "stream",
     "text": [
      "Correct label for image #7390: 7\n"
     ]
    },
    {
     "data": {
      "image/png": "[encoded data removed]",
      "text/plain": [
       "<matplotlib.figure.Figure at 0x7f4181b151d0>"
      ]
     },
     "metadata": {},
     "output_type": "display_data"
    }
   ],
   "source": [
    "def show_random_mnist_train_example(mnist):\n",
    "    \"\"\"Draws a random training image from MNIST dataset and displays it.\n",
    "    \n",
    "    Args:\n",
    "        mnist: MNIST dataset.\n",
    "    \"\"\"\n",
    "    random_idx = random.randint(0, mnist.train.num_examples)\n",
    "    image = mnist.train.images[random_idx].reshape(28, 28)\n",
    "    imgplot = plt.imshow(image)\n",
    "    ### [TASK] Get a correct label for the image \n",
    "    label = np.where(mnist.train.labels[random_idx] == 1)[0][0]\n",
    "    ###\n",
    "    print('Correct label for image #{0}: {1}'.format(random_idx, label))\n",
    "\n",
    "show_random_mnist_train_example(mnist)"
   ]
  },
  {
   "cell_type": "markdown",
   "metadata": {},
   "source": [
    "Name | Value\n",
    "--- | --- |\n",
    "| Correct label     | 7 |"
   ]
  },
  {
   "cell_type": "markdown",
   "metadata": {},
   "source": [
    "## Model\n",
    "\n",
    "We will be using a simple LSTM network with `timesteps` inputs of size `num_input` (slices of image, see preprocessing). The output of a final unrolled cell will be then fed through a simple linear layer to get a required number of outputs (`num_classes` = 10 for MNIST). Finally we will use a softmax cross-entropy loss to fit our model.\n",
    "\n",
    "### Preprocessing\n",
    "\n",
    "Since RNN requires a sequence of inputs and we have only one input (image), we have to divide the image into smaller parts. We will do this by moving a small window of arbitrary size (kernel) through the image. For each position of the kernel, we take the corresponding patch of the image, reshape it to vector (for training ease) and append in to the list of kernels.\n",
    "\n",
    "We define 2 functions to do this:<br>\n",
    "    1) **get_kernels** - retrieves all patches from image using a kernel of shape `kernel_shape`, which is moved by `stride` pixels in x and y direction at each step; if a kernel is partially outside of the image, zero-padding is used <br>\n",
    "    2) **get_batch_kernels** - does the same as get_kernels, but for the batch of vector-shaped images\n",
    "    \n",
    "Your task is to write get_batch_kernels function, using get_kernels."
   ]
  },
  {
   "cell_type": "code",
   "execution_count": 7,
   "metadata": {
    "scrolled": true
   },
   "outputs": [
    {
     "name": "stdout",
     "output_type": "stream",
     "text": [
      "Number of patches: 128\n",
      "Patches shape: (128, 49, 16)\n"
     ]
    }
   ],
   "source": [
    "def get_patches(image, kernel_shape, stride):\n",
    "    \"\"\"Get all patches from image using a moving kernel.\n",
    "    \n",
    "    Args:\n",
    "        image (matrix): Matrix of arbitrary shape.\n",
    "        kernel_shape (tuple): The shape of the kernel.\n",
    "        stride (tuple): Number of units to move the kernel in x and y.\n",
    "        \n",
    "    Returns:\n",
    "        np.array: Array of vector-shaped patches.\n",
    "    \"\"\"\n",
    "    image_h, image_w = image.shape\n",
    "    kernel_h, kernel_w = kernel_shape\n",
    "    stride_h, stride_w = stride\n",
    "    h = w = 0\n",
    "    patches = []\n",
    "    while h < image_h:\n",
    "        w = 0\n",
    "        while w < image_w:\n",
    "            patch = image[h : (h + kernel_h), w : (w + kernel_w)]\n",
    "            if patch.shape != (kernel_h, kernel_w):\n",
    "                # use zero padding\n",
    "                patch = np.pad(patch, ((0, kernel_h - patch.shape[0]), \n",
    "                                         (0, kernel_w - patch.shape[1])), 'constant')\n",
    "            patches.append(patch.reshape(-1))\n",
    "            w += stride_w\n",
    "        h += stride_h\n",
    "    return np.array(patches)\n",
    "\n",
    "def get_batch_patches(batch, kernel_shape, stride, image_shape=(28, 28)):\n",
    "    \"\"\"Gets patches from a batch of images.\n",
    "    \n",
    "    Args:\n",
    "        batch (matrix): Matrix of images, shape [batch_size, image_vector_size].\n",
    "        kernel_shape (tuple): The shape of the kernel.\n",
    "        stride (tuple): Number of units to move the kernel in x and y.\n",
    "        image_shape (tuple): Shape of a single image in matrix form.\n",
    "    \n",
    "    Returns:\n",
    "        np.array: Array of patches from the batch.\n",
    "    \"\"\"\n",
    "    batch_out = []\n",
    "    ### [TASK] Retrieve patches for every image in batch:\n",
    "    for image in batch:\n",
    "        batch_out.append(get_patches(image.reshape(image_shape), kernel_shape, stride))\n",
    "    ###\n",
    "    return np.array(batch_out)\n",
    "\n",
    "\n",
    "patches = get_batch_patches(mnist.train.images[:128], kernel_shape=[4, 4], stride=[4, 4])\n",
    "print('Number of patches: {0}'.format(len(patches)))\n",
    "print('Patches shape: {0}'.format(patches.shape))"
   ]
  },
  {
   "cell_type": "markdown",
   "metadata": {},
   "source": [
    "Name | Value\n",
    "--- | --- |\n",
    "| Number of patches     | 128 |\n",
    "| Patches shape     | (128, 49, 16) |"
   ]
  },
  {
   "cell_type": "markdown",
   "metadata": {},
   "source": [
    "For the purpose of this notebook, we will use patches of shape (1, 28). In other words, we will divide each image into rows, receiving 28 timesteps, each having 28 elements vector as an input. Run cell below to calculate the number of timesteps and input size. \n",
    "\n",
    "After finishing this notebook you should also try playing around with these parameters to find an optimal kernel shape and stride."
   ]
  },
  {
   "cell_type": "code",
   "execution_count": 8,
   "metadata": {},
   "outputs": [
    {
     "name": "stdout",
     "output_type": "stream",
     "text": [
      "Timesteps: 28\n",
      "Input vector size: 28\n"
     ]
    }
   ],
   "source": [
    "kernel_shape = (28, 1)\n",
    "stride = (28, 1)\n",
    "timesteps, num_input = get_patches(mnist.train.images[0].reshape(28, 28), kernel_shape, stride).shape\n",
    "print('Timesteps: {0}'.format(timesteps))\n",
    "print('Input vector size: {0}'.format(num_input))"
   ]
  },
  {
   "cell_type": "markdown",
   "metadata": {},
   "source": [
    "Name | Value\n",
    "--- | --- |\n",
    "| Timesteps     | 28 |\n",
    "| Input vector size     | 28 |"
   ]
  },
  {
   "cell_type": "markdown",
   "metadata": {},
   "source": [
    "#### Config\n",
    "It is often a good idea to put all configurable parameters in one dictionary. Run cell below to do this."
   ]
  },
  {
   "cell_type": "code",
   "execution_count": 9,
   "metadata": {
    "collapsed": true
   },
   "outputs": [],
   "source": [
    "config = {'num_input': num_input, 'timesteps': timesteps, 'kernel_shape': kernel_shape, 'stride': stride,\n",
    "          'num_hidden': 128, 'num_classes': 10, 'learning_rate': 0.001, 'training_steps': 10000, \n",
    "          'batch_size': 128, 'display_step': 200}"
   ]
  },
  {
   "cell_type": "markdown",
   "metadata": {},
   "source": [
    "### Model class\n",
    "\n",
    "Let's create a class representing our model. It is able to do the following:<br>\n",
    "    1) Perform forward propagation. <br>\n",
    "    2) Compute loss. <br>\n",
    "    3) Minimize loss function (train). <br>\n",
    "    4) Calculate accuracy. <br>\n",
    "   \n",
    "Note: Methods where moved outside of the class, for the ease of testing them. Normally, they would be inside the class."
   ]
  },
  {
   "cell_type": "code",
   "execution_count": 10,
   "metadata": {
    "collapsed": true
   },
   "outputs": [],
   "source": [
    "class MnistLstmModel(object):\n",
    "    def __init__(self, config):\n",
    "        # Retrieve config parameters\n",
    "        self._config = config\n",
    "        timesteps, num_input, num_hidden = config['timesteps'], config['num_input'], config['num_hidden']\n",
    "        num_classes, learning_rate = config['num_classes'], config['learning_rate']\n",
    "        \n",
    "        self.X, self.Y = get_placeholders(timesteps, num_input, num_classes)\n",
    "        self.logits = forward_propagation(self.X, timesteps, num_hidden, num_classes)\n",
    "        self.loss = compute_loss(self.logits, self.Y)\n",
    "        self.train_op = optimize(self.loss, learning_rate)\n",
    "        self.accuracy, _ = predict(self.logits, self.Y)"
   ]
  },
  {
   "cell_type": "markdown",
   "metadata": {},
   "source": [
    "#### Create placeholders\n",
    "\n",
    "Before we do anything, we must provide space for the input features and output labels. That is, tensorflow must know before computation begins, what the shape of input and output is, to allocate enough space. We can do this using tf.placeholders:\n",
    "```python\n",
    "    p = tf.placeholder(type, shape)\n",
    "```\n",
    "where type is usually set to ```tf.float32``` and shape is a list specyfing the final shape. Please note that the model will be given a batch of images at each iteration, not 1 or all of them. We do this by adding a ```None``` value to ```shape``` at the first position, e.g. for a single input of shape ```[a, b]```, batch input placeholder will be of shape ```[None, a, b]```.\n",
    "\n",
    "Please create placeholders for X and Y of MNIST dataset (type: float)."
   ]
  },
  {
   "cell_type": "code",
   "execution_count": 11,
   "metadata": {
    "collapsed": true
   },
   "outputs": [],
   "source": [
    "def get_placeholders(timesteps, num_input, num_classes):\n",
    "    ### [TASK] Create placeholders for input and output of MNIST dataset\n",
    "    x = tf.placeholder(tf.float32, [None, timesteps, num_input])\n",
    "    y = tf.placeholder(tf.float32, [None, num_classes])\n",
    "    ###\n",
    "    return x, y"
   ]
  },
  {
   "cell_type": "code",
   "execution_count": 12,
   "metadata": {},
   "outputs": [
    {
     "name": "stdout",
     "output_type": "stream",
     "text": [
      "X = Tensor(\"Placeholder:0\", shape=(?, 28, 28), dtype=float32)\n",
      "Y = Tensor(\"Placeholder_1:0\", shape=(?, 10), dtype=float32)\n"
     ]
    }
   ],
   "source": [
    "tf.reset_default_graph()\n",
    "X, Y = get_placeholders(config['timesteps'], config['num_input'], config['num_classes'])\n",
    "print (\"X = \" + str(X))\n",
    "print (\"Y = \" + str(Y))"
   ]
  },
  {
   "cell_type": "markdown",
   "metadata": {},
   "source": [
    "Name | Value\n",
    "--- | --- |\n",
    "| X | Tensor(\"Placeholder:0\", shape=(?, 28, 28), dtype=float32) |\n",
    "| Y | Tensor(\"Placeholder_1:0\", shape=(?, 10), dtype=float32) |"
   ]
  },
  {
   "cell_type": "markdown",
   "metadata": {},
   "source": [
    "#### Forward propagation\n",
    "\n",
    "Forward pass consists of 2 steps: <br>\n",
    "1) LSTM forward pass. <br>\n",
    "2) Linear layer forward pass, converting LSTM output to ```num_classes``` vector for loss computation. Only the last output is taken into consideration."
   ]
  },
  {
   "cell_type": "code",
   "execution_count": 13,
   "metadata": {
    "collapsed": true
   },
   "outputs": [],
   "source": [
    "def forward_propagation(x, timesteps, num_hidden, num_classes):\n",
    "    \"\"\"Forward pass.\"\"\"\n",
    "    outputs, states = get_lstm(x, timesteps, num_hidden)\n",
    "    logits = get_linear_layer(X=outputs[-1], num_in=num_hidden, num_out=num_classes)\n",
    "    return logits"
   ]
  },
  {
   "cell_type": "markdown",
   "metadata": {},
   "source": [
    "#### LSTM\n",
    "\n",
    "Let's start with the LSTM part. We have to create a multi layer LSTM cell. You can do this in TF in 2 steps. <br>\n",
    "1) Get a list of cells. Cell in this context is a single LSTM layer. To do this use ```tf.contrib.rnn.BasicLSTMCell```. <br>\n",
    "2) Use the list of cells to create ```tf.contrib.MultiRNNCell```, which basically assembles cells into a single model. <br>\n",
    "\n",
    "Afterwards, we use ```tf.contrib.rnn.static_rnn``` to connect our LSTM model with input.\n",
    "\n",
    "Note: ```tf.contrib.rnn.static_rnn``` requires input to be in time-major form, i.e. instead of a tensor of shape ```[batch_size, timesteps, num_input]```, we have to get _timesteps_ number of tensors of shape ```[batch_size, num_input]```. We can do this by using ```tf.unstack```."
   ]
  },
  {
   "cell_type": "code",
   "execution_count": 14,
   "metadata": {
    "collapsed": true
   },
   "outputs": [],
   "source": [
    "def get_lstm(x, timesteps, num_hidden, num_layers=1):\n",
    "    cells = []\n",
    "    for _ in range(num_layers):\n",
    "        ### [TASK] Append a basic LSTM cell.\n",
    "        cells.append(tf.contrib.rnn.BasicLSTMCell(num_hidden))\n",
    "        ###\n",
    "    ### [TASK] Construct a multi RNN cell.\n",
    "    lstm_cell = tf.contrib.rnn.MultiRNNCell(cells)\n",
    "    ###\n",
    "    \n",
    "    ### [TASK] Unstack input x.\n",
    "    x = tf.unstack(x, axis=1)\n",
    "    ###\n",
    "    \n",
    "    ### [TASK] Create static RNN of cells.\n",
    "    outputs, states = tf.contrib.rnn.static_rnn(lstm_cell, x, dtype=tf.float32)\n",
    "    ###\n",
    "    return outputs, states"
   ]
  },
  {
   "cell_type": "markdown",
   "metadata": {},
   "source": [
    "#### Linear layer\n",
    "\n",
    "We need to convert outputs of last LSTM to a num_classes sized vector. To do this, we will create a linear layer of weights and biases. You can use ```tf.get_variable``` to create weights and bias tensors, specifying shape and initializer. For this example, please use ```tf.random_normal_initializer(seed=1)``` (seed=1 to get the same results)."
   ]
  },
  {
   "cell_type": "code",
   "execution_count": 15,
   "metadata": {},
   "outputs": [],
   "source": [
    "def get_linear_layer(X, num_in, num_out):\n",
    "    ### [TASK] Create weights and bias variables and compute X*W + b\n",
    "    W = tf.get_variable('weights_out', shape=[num_in, num_out], initializer=tf.random_normal_initializer(seed=1))\n",
    "    b = tf.get_variable('bias_out', shape=[num_out], initializer=tf.random_normal_initializer(seed=1))\n",
    "    output = tf.matmul(X, W) + b\n",
    "    ###\n",
    "    return output"
   ]
  },
  {
   "cell_type": "markdown",
   "metadata": {},
   "source": [
    "#### Loss\n",
    "\n",
    "Let's use ```tf.nn.softmax_cross_entropy_with_logits``` as our loss function. Please remember to return the mean value of the loss across the whole batch."
   ]
  },
  {
   "cell_type": "code",
   "execution_count": 16,
   "metadata": {
    "collapsed": true
   },
   "outputs": [],
   "source": [
    "def compute_loss(logits, labels):\n",
    "    ### [TASK] Calculate softmax cross-entropy loss (cost).\n",
    "    loss = tf.reduce_mean(tf.nn.softmax_cross_entropy_with_logits(logits=logits, labels=labels))\n",
    "    ###\n",
    "    return loss"
   ]
  },
  {
   "cell_type": "markdown",
   "metadata": {},
   "source": [
    "#### Optimizer\n",
    "\n",
    "Let's minimize our loss function with ```tf.train.GradientDescentOptimizer```."
   ]
  },
  {
   "cell_type": "code",
   "execution_count": 17,
   "metadata": {
    "collapsed": true
   },
   "outputs": [],
   "source": [
    "def optimize(loss, learning_rate):\n",
    "    return tf.train.GradientDescentOptimizer(learning_rate=learning_rate).minimize(loss)"
   ]
  },
  {
   "cell_type": "markdown",
   "metadata": {},
   "source": [
    "#### Prediction\n",
    "\n",
    "We want to know how well our model is performing in human-readable form. We will use a simple accuracy metric for this purpose: <br>\n",
    "1) Calculate softmax with ```tf.nn.softmax``` <br>\n",
    "2) Get a vector of correct predictions: if correct_pred[i] = 1, model predicted label correctly. Use ```tf.equal(labels, y_pred)``` to get the ```(labels == y_pred)``` element-wise and ```tf.argmax``` to find the model's predicted label. <br>\n",
    "3) Get a mean value of above to calculate accuracy (you may need to convert tensorf to ```tf.float32``` first)."
   ]
  },
  {
   "cell_type": "code",
   "execution_count": 18,
   "metadata": {
    "collapsed": true
   },
   "outputs": [],
   "source": [
    "def predict(logits, labels):\n",
    "    ### [TASK] Calcuate prediction accuracy\n",
    "    y_pred = tf.nn.softmax(logits)\n",
    "    correct_pred = tf.equal(tf.argmax(y_pred, 1), tf.argmax(labels, 1))\n",
    "    accuracy = tf.reduce_mean(tf.cast(correct_pred, tf.float32))\n",
    "    ###\n",
    "    return accuracy, correct_pred"
   ]
  },
  {
   "cell_type": "markdown",
   "metadata": {},
   "source": [
    "## Training\n",
    "\n",
    "Let's train our model and see how well it performs on MNIST dataset!"
   ]
  },
  {
   "cell_type": "code",
   "execution_count": 19,
   "metadata": {},
   "outputs": [
    {
     "name": "stdout",
     "output_type": "stream",
     "text": [
      "Step 1, Minibatch Loss= 3.1658, Training Accuracy= 0.133\n",
      "Step 200, Minibatch Loss= 2.1227, Training Accuracy= 0.367\n",
      "Step 400, Minibatch Loss= 1.9453, Training Accuracy= 0.523\n",
      "Step 600, Minibatch Loss= 1.7082, Training Accuracy= 0.625\n",
      "Step 800, Minibatch Loss= 1.3775, Training Accuracy= 0.641\n",
      "Step 1000, Minibatch Loss= 1.1705, Training Accuracy= 0.750\n",
      "Step 1200, Minibatch Loss= 1.2447, Training Accuracy= 0.680\n",
      "Step 1400, Minibatch Loss= 1.1377, Training Accuracy= 0.695\n",
      "Step 1600, Minibatch Loss= 1.0179, Training Accuracy= 0.750\n",
      "Step 1800, Minibatch Loss= 0.9839, Training Accuracy= 0.734\n",
      "Step 2000, Minibatch Loss= 0.8847, Training Accuracy= 0.766\n",
      "Step 2200, Minibatch Loss= 1.0252, Training Accuracy= 0.742\n",
      "Step 2400, Minibatch Loss= 0.8300, Training Accuracy= 0.734\n",
      "Step 2600, Minibatch Loss= 0.9359, Training Accuracy= 0.750\n",
      "Step 2800, Minibatch Loss= 0.8070, Training Accuracy= 0.781\n",
      "Step 3000, Minibatch Loss= 0.8586, Training Accuracy= 0.742\n",
      "Step 3200, Minibatch Loss= 0.8574, Training Accuracy= 0.789\n",
      "Step 3400, Minibatch Loss= 0.7460, Training Accuracy= 0.797\n",
      "Step 3600, Minibatch Loss= 0.7947, Training Accuracy= 0.820\n",
      "Step 3800, Minibatch Loss= 0.7153, Training Accuracy= 0.828\n",
      "Step 4000, Minibatch Loss= 0.5852, Training Accuracy= 0.836\n",
      "Step 4200, Minibatch Loss= 0.7129, Training Accuracy= 0.797\n",
      "Step 4400, Minibatch Loss= 0.5975, Training Accuracy= 0.797\n",
      "Step 4600, Minibatch Loss= 0.5361, Training Accuracy= 0.844\n",
      "Step 4800, Minibatch Loss= 0.4469, Training Accuracy= 0.906\n",
      "Step 5000, Minibatch Loss= 0.5205, Training Accuracy= 0.844\n",
      "Step 5200, Minibatch Loss= 0.6170, Training Accuracy= 0.789\n",
      "Step 5400, Minibatch Loss= 0.5239, Training Accuracy= 0.844\n",
      "Step 5600, Minibatch Loss= 0.6029, Training Accuracy= 0.859\n",
      "Step 5800, Minibatch Loss= 0.3230, Training Accuracy= 0.922\n",
      "Step 6000, Minibatch Loss= 0.4977, Training Accuracy= 0.875\n",
      "Step 6200, Minibatch Loss= 0.4653, Training Accuracy= 0.859\n",
      "Step 6400, Minibatch Loss= 0.4425, Training Accuracy= 0.891\n",
      "Step 6600, Minibatch Loss= 0.4420, Training Accuracy= 0.867\n",
      "Step 6800, Minibatch Loss= 0.5545, Training Accuracy= 0.836\n",
      "Step 7000, Minibatch Loss= 0.5386, Training Accuracy= 0.836\n",
      "Step 7200, Minibatch Loss= 0.5023, Training Accuracy= 0.867\n",
      "Step 7400, Minibatch Loss= 0.3298, Training Accuracy= 0.922\n",
      "Step 7600, Minibatch Loss= 0.3354, Training Accuracy= 0.922\n",
      "Step 7800, Minibatch Loss= 0.3269, Training Accuracy= 0.891\n",
      "Step 8000, Minibatch Loss= 0.5076, Training Accuracy= 0.867\n",
      "Step 8200, Minibatch Loss= 0.4883, Training Accuracy= 0.820\n",
      "Step 8400, Minibatch Loss= 0.2719, Training Accuracy= 0.953\n",
      "Step 8600, Minibatch Loss= 0.3040, Training Accuracy= 0.922\n",
      "Step 8800, Minibatch Loss= 0.3593, Training Accuracy= 0.914\n",
      "Step 9000, Minibatch Loss= 0.2962, Training Accuracy= 0.922\n",
      "Step 9200, Minibatch Loss= 0.3377, Training Accuracy= 0.883\n",
      "Step 9400, Minibatch Loss= 0.3177, Training Accuracy= 0.898\n",
      "Step 9600, Minibatch Loss= 0.3380, Training Accuracy= 0.898\n",
      "Step 9800, Minibatch Loss= 0.2173, Training Accuracy= 0.961\n",
      "Step 10000, Minibatch Loss= 0.2749, Training Accuracy= 0.922\n",
      "Optimization Finished!\n"
     ]
    },
    {
     "data": {
      "image/png": "[encoded data removed]",
      "text/plain": [
       "<matplotlib.figure.Figure at 0x7f4178eac450>"
      ]
     },
     "metadata": {},
     "output_type": "display_data"
    },
    {
     "data": {
      "image/png": "[encoded data removed]",
      "text/plain": [
       "<matplotlib.figure.Figure at 0x7f416848b710>"
      ]
     },
     "metadata": {},
     "output_type": "display_data"
    },
    {
     "name": "stdout",
     "output_type": "stream",
     "text": [
      "Testing Accuracy: 0.96875\n"
     ]
    }
   ],
   "source": [
    "tf.reset_default_graph()\n",
    "\n",
    "tf.set_random_seed(1)\n",
    "model = MnistLstmModel(config)\n",
    "init = tf.global_variables_initializer()\n",
    "\n",
    "# Start training\n",
    "with tf.Session() as sess:\n",
    "\n",
    "    # Run the initializer\n",
    "    sess.run(init)\n",
    "    losses, accs = [], []\n",
    "    log_steps = []\n",
    "    for step in range(1, config['training_steps'] + 1):\n",
    "        batch_x, batch_y = mnist.train.next_batch(config['batch_size'])\n",
    "        batch_x = get_batch_patches(batch_x, config['kernel_shape'], config['stride'])\n",
    "        sess.run(model.train_op, feed_dict={model.X: batch_x, model.Y: batch_y})\n",
    "        if step % config['display_step'] == 0 or step == 1:\n",
    "            # Calculate batch loss and accuracy\n",
    "            loss, acc = sess.run([model.loss, model.accuracy], feed_dict={model.X: batch_x,\n",
    "                                                                          model.Y: batch_y})\n",
    "            losses.append(loss)\n",
    "            accs.append(acc)\n",
    "            log_steps.append(step)\n",
    "            print(\"Step \" + str(step) + \", Minibatch Loss= \" + \\\n",
    "                  \"{:.4f}\".format(loss) + \", Training Accuracy= \" + \\\n",
    "                  \"{:.3f}\".format(acc))\n",
    "\n",
    "    print(\"Optimization Finished!\")\n",
    "    \n",
    "    # plot the cost\n",
    "    plt.plot(log_steps, losses)\n",
    "    plt.ylabel('loss')\n",
    "    plt.xlabel('iterations')\n",
    "    plt.title('Loss')\n",
    "    plt.show()\n",
    "    \n",
    "    # plot the cost\n",
    "    plt.plot(log_steps, accs)\n",
    "    plt.ylabel('accuracy')\n",
    "    plt.xlabel('iteration (in 200s)')\n",
    "    plt.title('Train accuracy')\n",
    "    plt.show()\n",
    "\n",
    "    # Calculate accuracy for 128 mnist test images\n",
    "    test_len = 128\n",
    "    test_data = get_batch_patches(mnist.test.images[:test_len], config['kernel_shape'], config['stride'])\n",
    "    test_label = mnist.test.labels[:test_len]\n",
    "    print(\"Testing Accuracy:\", \\\n",
    "sess.run(model.accuracy, feed_dict={model.X: test_data, model.Y: test_label}))"
   ]
  },
  {
   "cell_type": "code",
   "execution_count": null,
   "metadata": {
    "collapsed": true
   },
   "outputs": [],
   "source": []
  }
 ],
 "metadata": {
  "kernelspec": {
   "display_name": "Python 2",
   "language": "python",
   "name": "python2"
  },
  "language_info": {
   "codemirror_mode": {
    "name": "ipython",
    "version": 2
   },
   "file_extension": ".py",
   "mimetype": "text/x-python",
   "name": "python",
   "nbconvert_exporter": "python",
   "pygments_lexer": "ipython2",
   "version": "2.7.13"
  }
 },
 "nbformat": 4,
 "nbformat_minor": 2
}
